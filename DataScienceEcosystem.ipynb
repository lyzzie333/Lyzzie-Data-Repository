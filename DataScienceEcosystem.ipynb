{
 "cells": [
  {
   "cell_type": "markdown",
   "id": "11a1204c-8db1-4d55-9a22-4053742dbc65",
   "metadata": {
    "tags": []
   },
   "source": [
    "# Data Science Tools and Ecosystem"
   ]
  },
  {
   "cell_type": "markdown",
   "id": "43f0e273-efbf-491f-aa04-158144e3e7d8",
   "metadata": {
    "jp-MarkdownHeadingCollapsed": true,
    "tags": []
   },
   "source": [
    "In this notebook, Data Science Tools and Ecosystem are summarized."
   ]
  },
  {
   "cell_type": "markdown",
   "id": "dd464260-6dbe-44d7-b9c8-acf9d7c36b7c",
   "metadata": {},
   "source": [
    "**Objectives:**\n",
    "\n",
    "* List popular languages for Data Scientists\n",
    "* List commonly used libraries by Data Scientists\n",
    "* Examples of basic arithmetic expressions executed in Python$"
   ]
  },
  {
   "cell_type": "markdown",
   "id": "64f33d29-0e0f-4ba2-b930-3931d92db63f",
   "metadata": {},
   "source": [
    "Some of the popular languages Data Scientists use are:\n",
    "1. R\n",
    "2. Python\n",
    "3. Java"
   ]
  },
  {
   "cell_type": "markdown",
   "id": "f7e85c77-95d7-4280-aac6-364cd982c39e",
   "metadata": {},
   "source": [
    "Some of the commonly used libraries used by Data Scientists include:\n",
    "\n",
    "\n",
    "1. NumPy\n",
    "2. Tensorflow\n",
    "3. SciPy"
   ]
  },
  {
   "cell_type": "markdown",
   "id": "bd471cbd-82af-4e22-ad66-cec0b47ad5ca",
   "metadata": {},
   "source": [
    "| Data Science Tools |\n",
    "----------------------\n",
    "| Git|\n",
    "| Kylo |\n",
    "| Hadoop |"
   ]
  },
  {
   "cell_type": "markdown",
   "id": "eab0406f-bc31-4abe-b1b9-876e4e9c9ed2",
   "metadata": {},
   "source": [
    "### Below are a few examples of evaluating arithmetic expressions in Python."
   ]
  },
  {
   "cell_type": "code",
   "execution_count": 6,
   "id": "79dad992-ae31-4a21-a3a0-d9f093ff6109",
   "metadata": {
    "tags": []
   },
   "outputs": [
    {
     "data": {
      "text/plain": [
       "17"
      ]
     },
     "execution_count": 6,
     "metadata": {},
     "output_type": "execute_result"
    }
   ],
   "source": [
    "#This a simple arithmetic expression to multiply then add integers.\n",
    "\n",
    "(3*4)+5"
   ]
  },
  {
   "cell_type": "code",
   "execution_count": 11,
   "id": "796f98b8-9747-427d-ba13-7099053b2932",
   "metadata": {
    "tags": []
   },
   "outputs": [
    {
     "data": {
      "text/plain": [
       "3.3333333333333335"
      ]
     },
     "execution_count": 11,
     "metadata": {},
     "output_type": "execute_result"
    }
   ],
   "source": [
    " # This will convert 200 minutes to hours by dividing by 60.\n",
    "\n",
    "(200/60)"
   ]
  },
  {
   "cell_type": "markdown",
   "id": "e1e73bf6-332e-487c-87d0-44227b9e1837",
   "metadata": {},
   "source": [
    "## Author\n",
    "\n",
    "Elizabeth Rogers"
   ]
  },
  {
   "cell_type": "code",
   "execution_count": null,
   "id": "02e83455-c147-40bb-a78d-45288143a1c7",
   "metadata": {},
   "outputs": [],
   "source": []
  }
 ],
 "metadata": {
  "kernelspec": {
   "display_name": "Python",
   "language": "python",
   "name": "conda-env-python-py"
  },
  "language_info": {
   "codemirror_mode": {
    "name": "ipython",
    "version": 3
   },
   "file_extension": ".py",
   "mimetype": "text/x-python",
   "name": "python",
   "nbconvert_exporter": "python",
   "pygments_lexer": "ipython3",
   "version": "3.7.12"
  }
 },
 "nbformat": 4,
 "nbformat_minor": 5
}
